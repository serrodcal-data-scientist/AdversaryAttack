{
 "cells": [
  {
   "cell_type": "markdown",
   "metadata": {},
   "source": [
    "# Ataque de adversario\n",
    "\n",
    "En este cuaderno, voy a intentar realizar un ataque de adversario sobre una red neuronal construida utilizando Keras/Tensorwlow.\n",
    "\n",
    "Un ataque de adversario consiste en conseguir una imagen que, sin parecer manipulada, una red neuronal la clasifica erróneamente. Con esto, se podría llegar a provocar que, por ejemplo, un coche autónomo al ver una señal de STOP la identifique como una señal de aumento de velocidad, provocando una situación peligrosa."
   ]
  },
  {
   "cell_type": "markdown",
   "metadata": {},
   "source": [
    "## Evaluación de la imagen\n",
    "\n",
    "En primer lugar, voy a realizar una evaluación normal de una imagen de un coche. Para ello, primero importamos las librerías que necesitamos."
   ]
  },
  {
   "cell_type": "code",
   "execution_count": 1,
   "metadata": {},
   "outputs": [
    {
     "name": "stderr",
     "output_type": "stream",
     "text": [
      "Using TensorFlow backend.\n"
     ]
    }
   ],
   "source": [
    "import tensorflow as tf # Importamos la librería de Tensorflow\n",
    "import keras # Importamos Keras que trabaja sobre Tensor facilitándonos el trabajo\n",
    "import matplotlib.pyplot as plt # Importamos Matplotlib para poder mostrar gráficas\n",
    "import numpy as np # Importamos la librería Numpy para trabajar con matrices"
   ]
  },
  {
   "cell_type": "markdown",
   "metadata": {},
   "source": [
    "Ahora, vamos a cargar nuestro modelo precargado utilizando Keras."
   ]
  },
  {
   "cell_type": "code",
   "execution_count": 2,
   "metadata": {},
   "outputs": [],
   "source": [
    "# Importamos los modelos entrenados de Keras, en especial la InceptionV3, de Google y para imágenes, así como, \n",
    "# decode_predictions que nos servirá luego para saber que respuesta nos ha dado la red neuronal\n",
    "from keras.applications.inception_v3 import InceptionV3, decode_predictions\n",
    "from keras import backend as K\n",
    "from keras.preprocessing import image # Para trabajar con procesado de imágenes"
   ]
  },
  {
   "cell_type": "markdown",
   "metadata": {},
   "source": [
    "A continuación, vamos a cargar el modelo de la librería."
   ]
  },
  {
   "cell_type": "code",
   "execution_count": null,
   "metadata": {},
   "outputs": [],
   "source": [
    "iv3 = InceptionV3()"
   ]
  },
  {
   "cell_type": "markdown",
   "metadata": {},
   "source": [
    "Finalmente, vamos a utilizar la imagen para probar nuestro modelo, en este caso, será la imagen de un coche."
   ]
  },
  {
   "cell_type": "code",
   "execution_count": null,
   "metadata": {},
   "outputs": [],
   "source": [
    "# Cargamos la imagen en una variable como array con un tamaño redimensionado a 299x299\n",
    "X = image.img_to_array(image.load_img(\"./coche.png\", target_size=(299,299))) \n",
    "\n",
    "# InceptionV3 utiliza un formato diferente, el rango de intensidades va de -1 a 1. Vamos a reescalar este rango.\n",
    "# Pasamos de [0,256) -> [-1,1]\n",
    "\n",
    "X /= 255 \n",
    "X -= 0.5 \n",
    "X *= 2 "
   ]
  },
  {
   "cell_type": "markdown",
   "metadata": {},
   "source": [
    "La red neuronal nos pide que pasemos un formato especial, un tensor, que tiene unas dimensiones parecidas\n",
    "a las que tenemos ahora, pero necesitamos una dimensión más:"
   ]
  },
  {
   "cell_type": "code",
   "execution_count": null,
   "metadata": {},
   "outputs": [],
   "source": [
    "X = X.reshape([1, X.shape[0], X.shape[1], X.shape[2]])"
   ]
  },
  {
   "cell_type": "markdown",
   "metadata": {},
   "source": [
    "Ahora, vamos a predecir qué tenemos en la imagen:"
   ]
  },
  {
   "cell_type": "code",
   "execution_count": null,
   "metadata": {},
   "outputs": [],
   "source": [
    "y = iv3.predict(X)"
   ]
  },
  {
   "cell_type": "markdown",
   "metadata": {},
   "source": [
    "Pero, vamos a ver qué ha predicho:"
   ]
  },
  {
   "cell_type": "code",
   "execution_count": null,
   "metadata": {},
   "outputs": [],
   "source": [
    "decode_predictions(y)"
   ]
  },
  {
   "cell_type": "markdown",
   "metadata": {},
   "source": [
    "La imagen que le hemos pasado es la siguiente, que nos ha dicho que es un coche deportivo:"
   ]
  },
  {
   "cell_type": "code",
   "execution_count": null,
   "metadata": {
    "scrolled": true
   },
   "outputs": [],
   "source": [
    "# Vamos a reescalar primero el rango de intensidades a como estaba originalmente\n",
    "X1 = np.copy(X)\n",
    "\n",
    "X1 /= 2\n",
    "X1 += 0.5\n",
    "X1 *= 255"
   ]
  },
  {
   "cell_type": "code",
   "execution_count": null,
   "metadata": {},
   "outputs": [],
   "source": [
    "plt.imshow(X1[0].astype(np.uint8))\n",
    "plt.show()"
   ]
  },
  {
   "cell_type": "markdown",
   "metadata": {},
   "source": [
    "## Generando la imagen para realizar el ataque de adversario\n",
    "\n",
    "Ahora vamos a generar la nueva imagen, la que provocará que la red neuronal se equivoque. Esto es, ir provocando que se maximice el error:"
   ]
  },
  {
   "cell_type": "code",
   "execution_count": null,
   "metadata": {},
   "outputs": [],
   "source": [
    "input_layer = iv3.layers[0].input\n",
    "output_layer = iv3.layers[-1].output\n",
    "\n",
    "# Vamos a hacer creer a la red que queremos que lo clasifique como un limón (número 951)\n",
    "target_class = 951\n",
    "\n",
    "# Creamos una función de coste para que la última capa el resultado que muestre sea 'target_class'\n",
    "loss = output_layer[0, target_class]"
   ]
  },
  {
   "cell_type": "markdown",
   "metadata": {},
   "source": [
    "Ahora vamos a realizar el gradiente, para encontrar el mínimo, es decir, el objetivo:"
   ]
  },
  {
   "cell_type": "code",
   "execution_count": null,
   "metadata": {},
   "outputs": [],
   "source": [
    "# Nos hace el gráfo entre el valor de entrada y el cálculo del gradiente\n",
    "grad = K.gradients(loss, input_layer)[0]\n",
    "\n",
    "# Función que nos hace el cálculo del gradiente\n",
    "optimize_gradient = K.function([input_layer, K.learning_phase()], [grad, loss])"
   ]
  },
  {
   "cell_type": "markdown",
   "metadata": {},
   "source": [
    "Una vez tenemos esto, hacemos el bucle donde ejecutar este código:"
   ]
  },
  {
   "cell_type": "code",
   "execution_count": null,
   "metadata": {},
   "outputs": [],
   "source": [
    "adv = np.copy(X)\n",
    "\n",
    "cost = 0.0\n",
    "\n",
    "while cost < 0.95:\n",
    "    gr, cost = optimize_gradient([adv, 0]) # Utilizamos la copia que realizamos anteriormente\n",
    "    adv += gr # Manipulamos los píxeles"
   ]
  },
  {
   "cell_type": "markdown",
   "metadata": {},
   "source": [
    "Finalmente, vamos a devolver al rango de intesidades la nueva imagen y a mostrarla."
   ]
  },
  {
   "cell_type": "code",
   "execution_count": null,
   "metadata": {},
   "outputs": [],
   "source": [
    "adv /= 2\n",
    "adv += 0.5\n",
    "adv *= 255"
   ]
  },
  {
   "cell_type": "code",
   "execution_count": null,
   "metadata": {},
   "outputs": [],
   "source": [
    "plt.imshow(adv[0].astype(np.uint8))\n",
    "plt.show()"
   ]
  },
  {
   "cell_type": "markdown",
   "metadata": {},
   "source": [
    "Ahora vemos la imagen hackeada, y se ven ciertos pixeles que nos pueden hacer sospechar. Además, vamos a guardar dicha imagen para que se persistan."
   ]
  },
  {
   "cell_type": "code",
   "execution_count": null,
   "metadata": {},
   "outputs": [],
   "source": [
    "# Guardamos la imagen\n",
    "from PIL import Image\n",
    "im = Image.fromarray(adv[0].astype(np.uint8))\n",
    "im.save(\"./coche_hacked.png\")"
   ]
  },
  {
   "cell_type": "markdown",
   "metadata": {},
   "source": [
    "Vamos a cargar de nuevo la imagen y a realizar la predicción (limón):"
   ]
  },
  {
   "cell_type": "code",
   "execution_count": null,
   "metadata": {},
   "outputs": [],
   "source": [
    "# Cargamos la imagen en una variable como array con un tamaño redimensionado a 299x299\n",
    "img_hacked = image.img_to_array(image.load_img(\"./coche_hacked.png\")) \n",
    "\n",
    "# InceptionV3 utiliza un formato diferente, el rango de intensidades va de -1 a 1. Vamos a reescalar este rango.\n",
    "# Pasamos de [0,256) -> [-1,1]\n",
    "\n",
    "img_hacked /= 255 \n",
    "img_hacked -= 0.5 \n",
    "img_hacked *= 2 \n",
    "\n",
    "img_hacked = img_hacked.reshape([1, img_hacked.shape[0], img_hacked.shape[1], img_hacked.shape[2]])\n",
    "y = iv3.predict(img_hacked)\n",
    "\n",
    "decode_predictions(y)"
   ]
  },
  {
   "cell_type": "markdown",
   "metadata": {},
   "source": [
    "### Minimizar la diferencia entre imágenes\n",
    "\n",
    "Ahora vamos a decirle a la red neuronal que no se extralimite haciendo la manipulación, así la imagen pasará por una imagen normal."
   ]
  },
  {
   "cell_type": "code",
   "execution_count": null,
   "metadata": {},
   "outputs": [],
   "source": [
    "adv = np.copy(X)\n",
    "\n",
    "# Límite de la perturbación\n",
    "pert = 0.01\n",
    "\n",
    "max_pert = X + pert\n",
    "min_pert = X - pert\n",
    "\n",
    "cost = 0.0\n",
    "\n",
    "while cost < 0.95:\n",
    "    gr, cost = optimize_gradient([adv, 0]) # Utilizamos la copia que realizamos anteriormente\n",
    "    adv += gr # Manipulamos los píxeles\n",
    "    adv = np.clip(adv, min_pert, max_pert) # Ponemos el límite a la perturbación\n",
    "    adv = np.clip(adv, -1, 1) # Ponemos el límite a la intensidad"
   ]
  },
  {
   "cell_type": "markdown",
   "metadata": {},
   "source": [
    "Vamos a mostrar el resultado, para ver que la imagen parece que no ha sido alterada:"
   ]
  },
  {
   "cell_type": "code",
   "execution_count": null,
   "metadata": {},
   "outputs": [],
   "source": [
    "adv /= 2\n",
    "adv += 0.5\n",
    "adv *= 255"
   ]
  },
  {
   "cell_type": "code",
   "execution_count": null,
   "metadata": {},
   "outputs": [],
   "source": [
    "plt.imshow(adv[0].astype(np.uint8))\n",
    "plt.show()"
   ]
  },
  {
   "cell_type": "markdown",
   "metadata": {},
   "source": [
    "Si realizamos la predicción de nuevo, veremos como nos dice que lo que hay en la imagen es un limón:"
   ]
  },
  {
   "cell_type": "code",
   "execution_count": null,
   "metadata": {},
   "outputs": [],
   "source": [
    "im = Image.fromarray(adv[0].astype(np.uint8))\n",
    "im.save(\"./coche_hacked_good.png\")\n",
    "\n",
    "# Cargamos la imagen en una variable como array con un tamaño redimensionado a 299x299\n",
    "img_hacked = image.img_to_array(image.load_img(\"./coche_hacked_good.png\")) \n",
    "\n",
    "# InceptionV3 utiliza un formato diferente, el rango de intensidades va de -1 a 1. Vamos a reescalar este rango.\n",
    "# Pasamos de [0,256) -> [-1,1]\n",
    "\n",
    "img_hacked /= 255 \n",
    "img_hacked -= 0.5 \n",
    "img_hacked *= 2 \n",
    "\n",
    "img_hacked = img_hacked.reshape([1, img_hacked.shape[0], img_hacked.shape[1], img_hacked.shape[2]])\n",
    "y = iv3.predict(img_hacked)\n",
    "\n",
    "decode_predictions(y)"
   ]
  }
 ],
 "metadata": {
  "kernelspec": {
   "display_name": "Python 3",
   "language": "python",
   "name": "python3"
  },
  "language_info": {
   "codemirror_mode": {
    "name": "ipython",
    "version": 3
   },
   "file_extension": ".py",
   "mimetype": "text/x-python",
   "name": "python",
   "nbconvert_exporter": "python",
   "pygments_lexer": "ipython3",
   "version": "3.6.5"
  }
 },
 "nbformat": 4,
 "nbformat_minor": 2
}
